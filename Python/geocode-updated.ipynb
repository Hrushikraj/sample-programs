{
 "cells": [
  {
   "cell_type": "code",
   "execution_count": 1,
   "id": "6fccf756",
   "metadata": {},
   "outputs": [
    {
     "name": "stdout",
     "output_type": "stream",
     "text": [
      "Collecting geopy\n",
      "  Obtaining dependency information for geopy from https://files.pythonhosted.org/packages/e5/15/cf2a69ade4b194aa524ac75112d5caac37414b20a3a03e6865dfe0bd1539/geopy-2.4.1-py3-none-any.whl.metadata\n",
      "  Downloading geopy-2.4.1-py3-none-any.whl.metadata (6.8 kB)\n",
      "Collecting geographiclib<3,>=1.52 (from geopy)\n",
      "  Obtaining dependency information for geographiclib<3,>=1.52 from https://files.pythonhosted.org/packages/9f/5a/a26132406f1f40cf51ea349a5f11b0a46cec02a2031ff82e391c2537247a/geographiclib-2.0-py3-none-any.whl.metadata\n",
      "  Downloading geographiclib-2.0-py3-none-any.whl.metadata (1.4 kB)\n",
      "Downloading geopy-2.4.1-py3-none-any.whl (125 kB)\n",
      "   ---------------------------------------- 0.0/125.4 kB ? eta -:--:--\n",
      "   --- ------------------------------------ 10.2/125.4 kB ? eta -:--:--\n",
      "   ------------ -------------------------- 41.0/125.4 kB 487.6 kB/s eta 0:00:01\n",
      "   ------------------- ------------------- 61.4/125.4 kB 465.5 kB/s eta 0:00:01\n",
      "   ---------------------------- ---------- 92.2/125.4 kB 476.3 kB/s eta 0:00:01\n",
      "   ---------------------------------- --- 112.6/125.4 kB 544.7 kB/s eta 0:00:01\n",
      "   -------------------------------------- 125.4/125.4 kB 460.8 kB/s eta 0:00:00\n",
      "Downloading geographiclib-2.0-py3-none-any.whl (40 kB)\n",
      "   ---------------------------------------- 0.0/40.3 kB ? eta -:--:--\n",
      "   ---------------------------------------- 0.0/40.3 kB ? eta -:--:--\n",
      "   ---------- ----------------------------- 10.2/40.3 kB ? eta -:--:--\n",
      "   ------------------------------ --------- 30.7/40.3 kB 445.2 kB/s eta 0:00:01\n",
      "   ---------------------------------------- 40.3/40.3 kB 385.7 kB/s eta 0:00:00\n",
      "Installing collected packages: geographiclib, geopy\n",
      "Successfully installed geographiclib-2.0 geopy-2.4.1\n",
      "Note: you may need to restart the kernel to use updated packages.\n"
     ]
    }
   ],
   "source": [
    "pip install geopy"
   ]
  },
  {
   "cell_type": "code",
   "execution_count": 1,
   "id": "4ec0c101",
   "metadata": {},
   "outputs": [
    {
     "name": "stdout",
     "output_type": "stream",
     "text": [
      "Enter your location: 1600 Amphitheatre Parkway, Mountain View, CA\n",
      "{'addresstype': 'office',\n",
      " 'boundingbox': ['37.4217136', '37.4218136', '-122.0846640', '-122.0845640'],\n",
      " 'class': 'office',\n",
      " 'display_name': 'Google Headquarters, 1600, Amphitheatre Parkway, Mountain '\n",
      "                 'View, Santa Clara County, California, 94043, United States',\n",
      " 'importance': 0.6949356759210291,\n",
      " 'lat': '37.4217636',\n",
      " 'licence': 'Data © OpenStreetMap contributors, ODbL 1.0. '\n",
      "            'http://osm.org/copyright',\n",
      " 'lon': '-122.084614',\n",
      " 'name': 'Google Headquarters',\n",
      " 'osm_id': 2192620021,\n",
      " 'osm_type': 'node',\n",
      " 'place_id': 376947505,\n",
      " 'place_rank': 30,\n",
      " 'type': 'it'}\n"
     ]
    }
   ],
   "source": [
    "#Forward geocoding\n",
    "from geopy.geocoders import Nominatim\n",
    "from pprint import pprint\n",
    "#instantiate a new Nominatim client\n",
    "app = Nominatim(user_agent=\"tutorial\")\n",
    "#get location raw data from the user\n",
    "your_loc = input(\"Enter your location: \")\n",
    "location = app.geocode(your_loc).raw\n",
    "# Print raw data\n",
    "pprint(location)\n",
    "#1600 Amphitheatre Parkway, Mountain View, CA"
   ]
  },
  {
   "cell_type": "code",
   "execution_count": 2,
   "id": "23ee3120",
   "metadata": {},
   "outputs": [
    {
     "name": "stdout",
     "output_type": "stream",
     "text": [
      "Mysore Palace, Sayyaji Rao Road, Vani Vilas, Mysuru, Mysuru taluk, Mysuru, Karnataka, 570001, India\n",
      "(12.30521965, 76.65538462991165)\n",
      "{'place_id': 217757887, 'licence': 'Data © OpenStreetMap contributors, ODbL 1.0. http://osm.org/copyright', 'osm_type': 'way', 'osm_id': 656323590, 'lat': '12.30521965', 'lon': '76.65538462991165', 'class': 'historic', 'type': 'castle', 'place_rank': 30, 'importance': 0.34342522267617864, 'addresstype': 'historic', 'name': 'Mysore Palace', 'display_name': 'Mysore Palace, Sayyaji Rao Road, Vani Vilas, Mysuru, Mysuru taluk, Mysuru, Karnataka, 570001, India', 'address': {'historic': 'Mysore Palace', 'road': 'Sayyaji Rao Road', 'suburb': 'Vani Vilas', 'city': 'Mysuru', 'county': 'Mysuru taluk', 'state_district': 'Mysuru', 'state': 'Karnataka', 'ISO3166-2-lvl4': 'IN-KA', 'postcode': '570001', 'country': 'India', 'country_code': 'in'}, 'boundingbox': ['12.3028963', '12.3076126', '76.6527861', '76.6593610']}\n"
     ]
    }
   ],
   "source": [
    "#Reverse geocoding\n",
    "from geopy.geocoders import Nominatim\n",
    "geolocator = Nominatim(user_agent=\"tutorial\")\n",
    "location = geolocator.reverse(\"12.3051828, 76.6553609\")\n",
    "print(location.address)\n",
    "print((location.latitude, location.longitude))\n",
    "print(location.raw)\n",
    "#{'place_id': '654513', 'osm_type': 'node', ...}"
   ]
  },
  {
   "cell_type": "code",
   "execution_count": null,
   "id": "590305b1",
   "metadata": {},
   "outputs": [],
   "source": []
  }
 ],
 "metadata": {
  "kernelspec": {
   "display_name": "Python 3 (ipykernel)",
   "language": "python",
   "name": "python3"
  },
  "language_info": {
   "codemirror_mode": {
    "name": "ipython",
    "version": 3
   },
   "file_extension": ".py",
   "mimetype": "text/x-python",
   "name": "python",
   "nbconvert_exporter": "python",
   "pygments_lexer": "ipython3",
   "version": "3.11.5"
  }
 },
 "nbformat": 4,
 "nbformat_minor": 5
}
